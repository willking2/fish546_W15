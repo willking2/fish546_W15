{
 "metadata": {
  "name": "",
  "signature": "sha256:ce136f2962970a549e06bd3f23f9db66a80975d5d35ccdaca05bb0a06aa42993"
 },
 "nbformat": 3,
 "nbformat_minor": 0,
 "worksheets": [
  {
   "cells": [
    {
     "cell_type": "code",
     "collapsed": false,
     "input": [
      "pwd"
     ],
     "language": "python",
     "metadata": {},
     "outputs": [
      {
       "metadata": {},
       "output_type": "pyout",
       "prompt_number": 1,
       "text": [
        "u'/Users/srlab/fish546_W15/nlap-ano/ntbk'"
       ]
      }
     ],
     "prompt_number": 1
    }
   ],
   "metadata": {}
  }
 ]
}